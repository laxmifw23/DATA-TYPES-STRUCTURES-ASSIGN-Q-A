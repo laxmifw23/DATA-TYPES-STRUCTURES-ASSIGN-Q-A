{
 "cells": [
  {
   "cell_type": "markdown",
   "metadata": {},
   "source": [
    "DATA TYPES & STRUCTURES Q&A\n",
    "# 1. What are data structures, and why are they important\n",
    " - Data structures are organized ways to store and manage data in a computer. They provide a framework for efficient data access, modification, and manipulation. Common data structures include arrays, linked lists, stacks, queues, trees, and graphs.\n",
    "Data structures are essential for several reasons:\n",
    "- Efficient data storage and retrieval: Data structures help optimize memory usage and enable fast data access.\n",
    "- Improved algorithm performance: Data structures facilitate efficient algorithm design, reducing computational complexity.\n",
    "- Scalability: Well-designed data structures support large datasets and high-performance applications.\n",
    "- Code organization and reusability: Data structures promote modular, reusable code."
   ]
  },
  {
   "cell_type": "code",
   "execution_count": null,
   "metadata": {},
   "outputs": [
    {
     "name": "stdout",
     "output_type": "stream",
     "text": [
      "[10, 2, 3]\n",
      "(1, 2, 3)\n"
     ]
    }
   ],
   "source": [
    "'''# 2. Explain the difference between mutable and immutable data types with examples\n",
    "- In programming, data types can be either mutable or immutable.\n",
    "Mutable Data Types\n",
    "- Can be modified after creation\n",
    "- Examples: lists, dictionaries, sets\n",
    "Example:'''\n",
    "my_list = [1, 2, 3]\n",
    "my_list[0] = 10\n",
    "print(my_list)  # Output: [10, 2, 3]\n",
    "'''Immutable Data Types\n",
    "- Cannot be modified after creation\n",
    "- Examples: integers, floats, strings, tuples\n",
    "Example:'''\n",
    "my_tuple = (1, 2, 3)\n",
    "# my_tuple[0] = 10  # This will raise an error\n",
    "print(my_tuple)  # Output: (1, 2, 3)"
   ]
  },
  {
   "cell_type": "code",
   "execution_count": 4,
   "metadata": {},
   "outputs": [
    {
     "name": "stdout",
     "output_type": "stream",
     "text": [
      "[10, 2, 3]\n",
      "(1, 2, 3)\n"
     ]
    }
   ],
   "source": [
    "'''# 3. What are the main differences between lists and tuples in Python\n",
    "- In Python, lists and tuples are both data structures that can store multiple values. However, there are key differences:\n",
    "Lists\n",
    "- Mutable: Can be modified after creation\n",
    "- Defined using square brackets []\n",
    "- Supports item assignment and deletion\n",
    "Tuples\n",
    "- Immutable: Cannot be modified after creation\n",
    "- Defined using parentheses ()\n",
    "- Does not support item assignment or deletion\n",
    "Example:'''\n",
    "# List\n",
    "my_list = [1, 2, 3]\n",
    "my_list[0] = 10\n",
    "print(my_list)  # Output: [10, 2, 3]\n",
    "# Tuple\n",
    "my_tuple = (1, 2, 3)\n",
    "# my_tuple[0] = 10  # This will raise an error\n",
    "print(my_tuple)  # Output: (1, 2, 3)"
   ]
  },
  {
   "cell_type": "markdown",
   "metadata": {},
   "source": [
    "# 4. Describe how dictionaries store data\n",
    "- Dictionaries in Python store data as key-value pairs. Each key is unique and maps to a specific value. Dictionaries use a hash table data structure to store and retrieve data efficiently.\n",
    "Key Components:\n",
    "- Keys: Unique identifiers for each value\n",
    "- Values: Data associated with each key\n",
    "- Hash function: Maps keys to indices in the hash table\n",
    "Data Storage:\n",
    "1. Key-value pairs: Dictionaries store data as key-value pairs.\n",
    "2. Hash table: Dictionaries use a hash table to store and retrieve data.\n",
    "3. Indexing: Keys are hashed to indices in the hash table, allowing for efficient data retrieval."
   ]
  },
  {
   "cell_type": "markdown",
   "metadata": {},
   "source": [
    "# 5. Why might you use a set instead of a list in Python\n",
    "- In Python, use a set instead of a list when:\n",
    "- Unique elements are required: Sets automatically remove duplicates.\n",
    "- Fast lookup and insertion are necessary: Sets use a hash table, making these operations faster.\n",
    "- Mathematical operations are needed: Sets support union, intersection, and difference operations.\n",
    "Sets are ideal for:\n",
    "- Removing duplicates\n",
    "- Fast membership testing\n",
    "- Mathematical operations"
   ]
  },
  {
   "cell_type": "markdown",
   "metadata": {},
   "source": [
    "# 6. What is a string in Python, and how is it different from a list\n",
    "- In Python, a string is a sequence of characters, such as \"hello\" or 'hello'. It is an immutable data type, meaning its contents cannot be modified after creation.\n",
    "Key differences from lists:\n",
    "- Immutability: Strings cannot be changed, whereas lists can.\n",
    "- Elements: Strings contain characters, while lists can contain any data type.\n",
    "- Indexing: String indexing returns individual characters, whereas list indexing returns elements."
   ]
  },
  {
   "cell_type": "markdown",
   "metadata": {},
   "source": [
    "# 7. How do tuples ensure data integrity in Python\n",
    "- In Python, tuples ensure data integrity by being:\n",
    "- Immutable: Tuples cannot be modified after creation, preventing accidental or intentional changes.\n",
    "- Ordered: Tuples maintain the order of elements, ensuring data consistency.\n",
    "- Hashable: Tuples can be used as dictionary keys, allowing for efficient data retrieval.\n",
    "By being immutable, tuples guarantee data integrity and prevent unintended modifications."
   ]
  },
  {
   "cell_type": "markdown",
   "metadata": {},
   "source": [
    "# 8. What is a hash table, and how does it relate to dictionaries in Python\n",
    "- A hash table is a data structure that stores key-value pairs in an array using a hash function. The hash function maps keys to indices in the array, allowing for efficient lookup, insertion, and deletion operations.\n",
    "Relation to dictionaries in Python:\n",
    "- Implementation: Dictionaries in Python are implemented using hash tables.\n",
    "- Key-value pairs: Dictionaries store data as key-value pairs, which are stored in the hash table.\n",
    "- Fast lookup: The hash table enables fast lookup, insertion, and deletion operations in dictionaries."
   ]
  },
  {
   "cell_type": "markdown",
   "metadata": {},
   "source": [
    "# 9. Can lists contain different data types in Python\n",
    "- Yes, lists in Python can contain different data types, including:\n",
    "- Integers: Whole numbers, e.g., 1, 2, 3\n",
    "- Floats: Decimal numbers, e.g., 3.14, -0.5\n",
    "- Strings: Text, e.g., \"hello\", 'hello'\n",
    "- Booleans: True or False values\n",
    "- Other lists: Nested lists, e.g., [1, 2, [3, 4]]\n",
    "- Dictionaries: Key-value pairs, e.g., {\"name\": \"John\", \"age\": 30}\n",
    "Lists are heterogeneous, meaning they can store elements of different data types."
   ]
  },
  {
   "cell_type": "markdown",
   "metadata": {},
   "source": [
    "# 10. Explain why strings are immutable in Python\n",
    "- In Python, strings are immutable because:\n",
    "- Security: Immutable strings prevent unintended modifications, reducing the risk of security vulnerabilities.\n",
    "- Performance: Immutable strings allow for efficient use of memory and caching.\n",
    "- Thread safety: Immutable strings ensure that multiple threads can access the same string without fear of modification."
   ]
  },
  {
   "cell_type": "markdown",
   "metadata": {},
   "source": [
    "# 11. What advantages do dictionaries offer over lists for certain tasks\n",
    "- Dictionaries offer several advantages over lists for certain tasks:\n",
    "    - Fast lookups: Dictionaries provide fast lookups, insertions, and deletions with an average time complexity of O(1).\n",
    "    - Key-value pairs: Dictionaries store data as key-value pairs, making it easy to associate values with meaningful keys.\n",
    "    - No duplicate keys: Dictionaries automatically eliminate duplicate keys, ensuring data consistency.\n",
    "    - Flexible data structure: Dictionaries can store a wide range of data types, including strings, integers, and other dictionaries."
   ]
  },
  {
   "cell_type": "code",
   "execution_count": 3,
   "metadata": {},
   "outputs": [
    {
     "name": "stdout",
     "output_type": "stream",
     "text": [
      "{1, 2, 3, 4, 5}\n",
      "{1, 2, 3, 4, 5}\n"
     ]
    }
   ],
   "source": [
    "'''# 12. How do sets handle duplicate values in Python\n",
    "- In Python, sets automatically handle duplicate values by:\n",
    "    - Ignoring duplicates: When adding elements to a set, duplicates are ignored, and only unique elements are stored.\n",
    "    - Removing duplicates: When converting a list or other iterable to a set, duplicates are removed, leaving only unique elements.\n",
    "Example:'''\n",
    "my_set = {1, 2, 2, 3, 4, 4, 5}\n",
    "print(my_set)  # Output: {1, 2, 3, 4, 5}\n",
    "\n",
    "my_list = [1, 2, 2, 3, 4, 4, 5]\n",
    "my_set = set(my_list)\n",
    "print(my_set)  # Output: {1, 2, 3, 4, 5}"
   ]
  },
  {
   "cell_type": "code",
   "execution_count": null,
   "metadata": {},
   "outputs": [
    {
     "name": "stdout",
     "output_type": "stream",
     "text": [
      "{'age': 20, 'grade': 90}\n"
     ]
    }
   ],
   "source": [
    "'''# 13. Describe a scenario where using a tuple would be preferable over a list\n",
    "- A scenario where using a tuple would be preferable over a list is when:\n",
    "    - Data integrity is crucial: Tuples are immutable, ensuring that data remains unchanged.\n",
    "    - Dictionary keys are needed: Tuples can be used as dictionary keys due to their immutability.\n",
    "    - Performance is critical: Tuples are faster and more memory-efficient than lists.\n",
    "Example:'''\n",
    "# Using a tuple as a dictionary key\n",
    "student_data = {(1, \"John\"): {\"age\": 20, \"grade\": 90}}\n",
    "# Accessing student data\n",
    "print(student_data[(1, \"John\")])  # Output: {\"age\": 20, \"grade\": 90}"
   ]
  },
  {
   "cell_type": "markdown",
   "metadata": {},
   "source": [
    "# 14. How does the “in” keyword work differently for lists and dictionaries\n",
    "- The \"in\" keyword works differently for lists and dictionaries:\n",
    "Lists:\n",
    "- Checks for element presence: Returns True if the element is found in the list.\n",
    "- Linear search: Searches the list sequentially, resulting in a time complexity of O(n).\n",
    "Dictionaries:\n",
    "- Checks for key presence: Returns True if the key is found in the dictionary.\n",
    "- Hash table lookup: Uses the hash table for fast lookup, resulting in an average time complexity of O(1)."
   ]
  },
  {
   "cell_type": "markdown",
   "metadata": {},
   "source": [
    "# 15. Can you modify the elements of a tuple? Explain why or why not\n",
    "- No, you cannot modify the elements of a tuple. Tuples are immutable in Python, meaning their contents cannot be changed after creation.\n",
    "Reason:\n",
    "- Immutable data structure: Tuples are designed to be immutable, ensuring data integrity and preventing unintended modifications.\n",
    "Attempting to modify a tuple:\n",
    "- Raises a TypeError: Trying to modify a tuple element will raise a TypeError, indicating that the tuple object does not support item assignment."
   ]
  },
  {
   "cell_type": "code",
   "execution_count": 1,
   "metadata": {},
   "outputs": [
    {
     "name": "stdout",
     "output_type": "stream",
     "text": [
      "20\n"
     ]
    }
   ],
   "source": [
    "'''# 16. What is a nested dictionary, and give an example of its use case\n",
    "- A nested dictionary is a dictionary that contains another dictionary or other data structures as its values.\n",
    "Use case:\n",
    "- Student information system: A nested dictionary can be used to store student information, where each student's name is a key, and their corresponding data (age, grade, etc.) is stored in a nested dictionary.\n",
    "Example:'''\n",
    "student_data = {\n",
    "    \"John\": {\"age\": 20, \"grade\": 90},\n",
    "    \"Alice\": {\"age\": 22, \"grade\": 85},\n",
    "    \"Bob\": {\"age\": 21, \"grade\": 95}\n",
    "}\n",
    "print(student_data[\"John\"][\"age\"])  # Output: 20"
   ]
  },
  {
   "cell_type": "markdown",
   "metadata": {},
   "source": [
    "# 17. Describe the time complexity of accessing elements in a dictionary\n",
    "- Accessing elements in a dictionary has an average time complexity of O(1), due to the use of a hash table. This allows for fast lookups, making it a constant-time operation. In rare cases with high collisions, the time complexity can degrade to O(n), but this is uncommon. Overall, dictionary lookups are highly efficient."
   ]
  },
  {
   "cell_type": "markdown",
   "metadata": {},
   "source": [
    "# 18. In what situations are lists preferred over dictionaries\n",
    "- Lists are preferred over dictionaries in the following situations:\n",
    "    - Ordered data: Lists maintain the order of elements, making them suitable for ordered data.\n",
    "    - Indexed access: Lists allow indexed access (e.g., my_list[0]), making them convenient for sequential access.\n",
    "    - Homogeneous data: Lists are suitable for storing homogeneous data (e.g., a list of integers).\n",
    "    - Frequent insertions/deletions: Lists are more efficient for frequent insertions and deletions."
   ]
  },
  {
   "cell_type": "markdown",
   "metadata": {},
   "source": [
    "# 19. Why are dictionaries considered unordered, and how does that affect data retrieval\n",
    "- Dictionaries are considered unordered because they use a hash table to store key-value pairs, which doesn't maintain a specific order. This means:\n",
    "- No guaranteed order: Iterating over a dictionary's keys, values, or items doesn't guarantee a specific order.\n",
    "- *Use of .keys(), .values(), or .items()*: To access dictionary elements, you must use these methods.\n",
    "To maintain order, consider using an OrderedDict from the collections module."
   ]
  },
  {
   "cell_type": "markdown",
   "metadata": {},
   "source": [
    "# 20. Explain the difference between a list and a dictionary in terms of data retrieval\n",
    "- Lists and dictionaries differ in data retrieval:\n",
    "Lists:\n",
    "- Indexed access: Elements are accessed by their index (position in the list).\n",
    "- Sequential access: Elements are accessed in the order they appear in the list.\n",
    "Dictionaries:\n",
    "- Key-based access: Elements are accessed by their unique key.\n",
    "- Random access: Elements can be accessed directly using their key, without traversing the dictionary."
   ]
  },
  {
   "cell_type": "code",
   "execution_count": null,
   "metadata": {},
   "outputs": [
    {
     "name": "stdout",
     "output_type": "stream",
     "text": [
      "Laxmi Kumari\n"
     ]
    }
   ],
   "source": [
    " # Practical Q&A\n",
    "# 1. Write a code to create a string with your name and print it.\n",
    "name = \"Laxmi Kumari\"\n",
    "print(name)"
   ]
  },
  {
   "cell_type": "code",
   "execution_count": 3,
   "metadata": {},
   "outputs": [
    {
     "name": "stdout",
     "output_type": "stream",
     "text": [
      "Length of the string: 11\n"
     ]
    }
   ],
   "source": [
    "# 2. Write a code to find the length of the string \"Hello World\"\n",
    "string = \"Hello World\"\n",
    "length = len(string)\n",
    "print(\"Length of the string:\", length)"
   ]
  },
  {
   "cell_type": "code",
   "execution_count": 7,
   "metadata": {},
   "outputs": [
    {
     "name": "stdout",
     "output_type": "stream",
     "text": [
      "Sliced string: Pyt\n"
     ]
    }
   ],
   "source": [
    "# 3. Write a code to slice the first 3 characters from the string \"Python Programming\"\n",
    "string = \"Python Programming\"\n",
    "sliced_string = string[:3]\n",
    "print(\"Sliced string:\", sliced_string)"
   ]
  },
  {
   "cell_type": "code",
   "execution_count": 8,
   "metadata": {},
   "outputs": [
    {
     "name": "stdout",
     "output_type": "stream",
     "text": [
      "Uppercase string: HELLO\n"
     ]
    }
   ],
   "source": [
    "# 4. Write a code to convert the string \"hello\" to uppercase\n",
    "string = \"hello\"\n",
    "uppercase_string = string.upper()\n",
    "print(\"Uppercase string:\", uppercase_string)"
   ]
  },
  {
   "cell_type": "code",
   "execution_count": 9,
   "metadata": {},
   "outputs": [
    {
     "name": "stdout",
     "output_type": "stream",
     "text": [
      "Replaced string: I like orange\n"
     ]
    }
   ],
   "source": [
    "# 5. Write a code to replace the word \"apple\" with \"orange\" in the string \"I like apple\"\n",
    "string = \"I like apple\"\n",
    "replaced_string = string.replace(\"apple\", \"orange\")\n",
    "print(\"Replaced string:\", replaced_string)"
   ]
  },
  {
   "cell_type": "code",
   "execution_count": 10,
   "metadata": {},
   "outputs": [
    {
     "name": "stdout",
     "output_type": "stream",
     "text": [
      "[1, 2, 3, 4, 5]\n"
     ]
    }
   ],
   "source": [
    "# 6. Write a code to create a list with numbers 1 to 5 and print it\n",
    "numbers = [1, 2, 3, 4, 5]\n",
    "print(numbers)"
   ]
  },
  {
   "cell_type": "code",
   "execution_count": 11,
   "metadata": {},
   "outputs": [
    {
     "name": "stdout",
     "output_type": "stream",
     "text": [
      "[1, 2, 3, 4, 10]\n"
     ]
    }
   ],
   "source": [
    "# 7. Write a code to append the number 10 to the list [1, 2, 3, 4]\n",
    "numbers = [1, 2, 3, 4]\n",
    "numbers.append(10)\n",
    "print(numbers)"
   ]
  },
  {
   "cell_type": "code",
   "execution_count": 12,
   "metadata": {},
   "outputs": [
    {
     "name": "stdout",
     "output_type": "stream",
     "text": [
      "[1, 2, 4, 5]\n"
     ]
    }
   ],
   "source": [
    "# 8. Write a code to remove the number 3 from the list [1, 2, 3, 4, 5]\n",
    "numbers = [1, 2, 3, 4, 5]\n",
    "numbers.remove(3)\n",
    "print(numbers)"
   ]
  },
  {
   "cell_type": "code",
   "execution_count": 13,
   "metadata": {},
   "outputs": [
    {
     "name": "stdout",
     "output_type": "stream",
     "text": [
      "b\n"
     ]
    }
   ],
   "source": [
    "# 9. Write a code to access the second element in the list ['a', 'b', 'c', 'd']\n",
    "letters = ['a', 'b', 'c', 'd']\n",
    "second_element = letters[1]\n",
    "print(second_element)"
   ]
  },
  {
   "cell_type": "code",
   "execution_count": 14,
   "metadata": {},
   "outputs": [
    {
     "name": "stdout",
     "output_type": "stream",
     "text": [
      "[50, 40, 30, 20, 10]\n"
     ]
    }
   ],
   "source": [
    "# 10. Write a code to reverse the list [10, 20, 30, 40, 50].\n",
    "numbers = [10, 20, 30, 40, 50]\n",
    "reversed_numbers = numbers[::-1]\n",
    "print(reversed_numbers)"
   ]
  },
  {
   "cell_type": "code",
   "execution_count": 15,
   "metadata": {},
   "outputs": [
    {
     "name": "stdout",
     "output_type": "stream",
     "text": [
      "(100, 200, 300)\n"
     ]
    }
   ],
   "source": [
    "# 11. Write a code to create a tuple with the elements 100, 200, 300 and print it.\n",
    "numbers = (100, 200, 300)\n",
    "print(numbers)"
   ]
  },
  {
   "cell_type": "code",
   "execution_count": 16,
   "metadata": {},
   "outputs": [
    {
     "name": "stdout",
     "output_type": "stream",
     "text": [
      "blue\n"
     ]
    }
   ],
   "source": [
    "# 12. Write a code to access the second-to-last element of the tuple ('red', 'green', 'blue', 'yellow').\n",
    "colors = ('red', 'green', 'blue', 'yellow')\n",
    "second_last_element = colors[-2]\n",
    "print(second_last_element)"
   ]
  },
  {
   "cell_type": "code",
   "execution_count": 25,
   "metadata": {},
   "outputs": [
    {
     "name": "stdout",
     "output_type": "stream",
     "text": [
      "Minimum number: 5\n"
     ]
    }
   ],
   "source": [
    "# 13. Write a code to find the minimum number in the tuple (10, 20, 5, 15).\n",
    "numbers = (10, 20, 5, 15)\n",
    "min_number = min(numbers)\n",
    "print(\"Minimum number:\", min_number)"
   ]
  },
  {
   "cell_type": "code",
   "execution_count": 24,
   "metadata": {},
   "outputs": [
    {
     "name": "stdout",
     "output_type": "stream",
     "text": [
      "Index of 'cat': 1\n"
     ]
    }
   ],
   "source": [
    "# 14. Write a code to find the index of the element \"cat\" in the tuple ('dog', 'cat', 'rabbit').\n",
    "animals = ('dog', 'cat', 'rabbit')\n",
    "index = animals.index('cat')\n",
    "print(\"Index of 'cat':\", index)"
   ]
  },
  {
   "cell_type": "code",
   "execution_count": 23,
   "metadata": {},
   "outputs": [
    {
     "name": "stdout",
     "output_type": "stream",
     "text": [
      "Kiwi is not in the tuple.\n"
     ]
    }
   ],
   "source": [
    "# 15. Write a code to create a tuple containing three different fruits and check if \"kiwi\" is in it.\n",
    "fruits = ('apple', 'banana', 'orange')\n",
    "if 'kiwi' in fruits:\n",
    "    print(\"Kiwi is in the tuple.\")\n",
    "else:\n",
    "    print(\"Kiwi is not in the tuple.\")"
   ]
  },
  {
   "cell_type": "code",
   "execution_count": 22,
   "metadata": {},
   "outputs": [
    {
     "name": "stdout",
     "output_type": "stream",
     "text": [
      "{'c', 'b', 'a'}\n"
     ]
    }
   ],
   "source": [
    "# 16. Write a code to create a set with the elements 'a', 'b', 'c' and print it.\n",
    "letters = {'a', 'b', 'c'}\n",
    "print(letters)"
   ]
  },
  {
   "cell_type": "code",
   "execution_count": 21,
   "metadata": {},
   "outputs": [
    {
     "name": "stdout",
     "output_type": "stream",
     "text": [
      "set()\n"
     ]
    }
   ],
   "source": [
    "# 17. Write a code to clear all elements from the set {1, 2, 3, 4, 5}.\n",
    "numbers = {1, 2, 3, 4, 5}\n",
    "numbers.clear()\n",
    "print(numbers)"
   ]
  },
  {
   "cell_type": "code",
   "execution_count": 17,
   "metadata": {},
   "outputs": [
    {
     "name": "stdout",
     "output_type": "stream",
     "text": [
      "{1, 2, 3}\n",
      "{1, 2, 3}\n"
     ]
    }
   ],
   "source": [
    "# 18. Write a code to remove the element 4 from the set {1, 2, 3, 4}.\n",
    "# Method 1: Using remove()\n",
    "numbers = {1, 2, 3, 4}\n",
    "numbers.remove(4)\n",
    "print(numbers)\n",
    "\n",
    "# Method 2: Using discard()\n",
    "numbers = {1, 2, 3, 4}\n",
    "numbers.discard(4)\n",
    "print(numbers)"
   ]
  },
  {
   "cell_type": "code",
   "execution_count": 19,
   "metadata": {},
   "outputs": [
    {
     "name": "stdout",
     "output_type": "stream",
     "text": [
      "Union of sets: {1, 2, 3, 4, 5}\n"
     ]
    }
   ],
   "source": [
    "# 19. Write a code to find the union of two sets {1, 2, 3} and {3, 4, 5}.\n",
    "set1 = {1, 2, 3}\n",
    "set2 = {3, 4, 5}\n",
    "union_set = set1.union(set2)\n",
    "print(\"Union of sets:\", union_set)"
   ]
  },
  {
   "cell_type": "code",
   "execution_count": 20,
   "metadata": {},
   "outputs": [
    {
     "name": "stdout",
     "output_type": "stream",
     "text": [
      "Intersection of sets: {2, 3}\n"
     ]
    }
   ],
   "source": [
    "# 20. Write a code to find the intersection of two sets {1, 2, 3} and {2, 3, 4}.\n",
    "set1 = {1, 2, 3}\n",
    "set2 = {2, 3, 4}\n",
    "intersection_set = set1.intersection(set2)\n",
    "print(\"Intersection of sets:\", intersection_set)"
   ]
  },
  {
   "cell_type": "code",
   "execution_count": 18,
   "metadata": {},
   "outputs": [
    {
     "name": "stdout",
     "output_type": "stream",
     "text": [
      "{'name': 'John Doe', 'age': 30, 'city': 'New York'}\n"
     ]
    }
   ],
   "source": [
    "# 21. Write a code to create a dictionary with the keys \"name\", \"age\", and \"city\", and print it.\n",
    "person = {\n",
    "    \"name\": \"John Doe\",\n",
    "    \"age\": 30,\n",
    "    \"city\": \"New York\"\n",
    "}\n",
    "print(person)"
   ]
  },
  {
   "cell_type": "code",
   "execution_count": null,
   "metadata": {},
   "outputs": [
    {
     "name": "stdout",
     "output_type": "stream",
     "text": [
      "Updated Dictionary: {'name': 'John', 'age': 25, 'country': 'USA'}\n"
     ]
    }
   ],
   "source": [
    "# 22. Write a code to add a new key-value pair \"country\": \"USA\" to the dictionary {'name': 'John', 'age': 25}.\n",
    "person = {\n",
    "    'name': 'John',\n",
    "    'age': 25\n",
    "}\n",
    "# Add new key-value pair\n",
    "person['country'] = 'USA'\n",
    "print(\"Updated Dictionary:\", person)"
   ]
  },
  {
   "cell_type": "code",
   "execution_count": 32,
   "metadata": {},
   "outputs": [
    {
     "name": "stdout",
     "output_type": "stream",
     "text": [
      "Value associated with key 'name': Alice\n"
     ]
    }
   ],
   "source": [
    "# 23. Write a code to access the value associated with the key \"name\" in the dictionary {'name': 'Alice', 'age': 30}.\n",
    "person = {\n",
    "    'name': 'Alice',\n",
    "    'age': 30\n",
    "}\n",
    "# Access value using key\n",
    "name_value = person['name']\n",
    "print(\"Value associated with key 'name':\", name_value)"
   ]
  },
  {
   "cell_type": "code",
   "execution_count": null,
   "metadata": {},
   "outputs": [
    {
     "name": "stdout",
     "output_type": "stream",
     "text": [
      "Dictionary after removing key 'age': {'name': 'Bob', 'city': 'New York'}\n"
     ]
    }
   ],
   "source": [
    "# 24. Write a code to remove the key \"age\" from the dictionary {'name': 'Bob', 'age': 22, 'city': 'New York'}.\n",
    "person = {\n",
    "    'name': 'Bob',\n",
    "    'age': 22,\n",
    "    'city': 'New York'\n",
    "}\n",
    "# Remove key \"age\"\n",
    "del person['age']\n",
    "print(\"Dictionary after removing key 'age':\", person)"
   ]
  },
  {
   "cell_type": "code",
   "execution_count": 35,
   "metadata": {},
   "outputs": [
    {
     "name": "stdout",
     "output_type": "stream",
     "text": [
      "Key 'city' exists in the dictionary.\n"
     ]
    }
   ],
   "source": [
    "# 25. Write a code to check if the key \"city\" exists in the dictionary {'name': 'Alice', 'city': 'Paris'}.\n",
    "person = {\n",
    "    'name': 'Alice',\n",
    "    'city': 'Paris'\n",
    "}\n",
    "# Check if key \"city\" exists\n",
    "if 'city' in person:\n",
    "    print(\"Key 'city' exists in the dictionary.\")\n",
    "else:\n",
    "    print(\"Key 'city' does not exist in the dictionary.\")"
   ]
  },
  {
   "cell_type": "code",
   "execution_count": null,
   "metadata": {},
   "outputs": [
    {
     "name": "stdout",
     "output_type": "stream",
     "text": [
      "List: [1, 2, 3, 4, 5]\n",
      "Tuple: (1, 2, 3, 4, 5)\n",
      "Dictionary: {'name': 'John', 'age': 30, 'city': 'New York'}\n"
     ]
    }
   ],
   "source": [
    "# 26. Write a code to create a list, a tuple, and a dictionary, and print them all.\n",
    "# Create a list\n",
    "my_list = [1, 2, 3, 4, 5]\n",
    "print(\"List:\", my_list)\n",
    "# Create a tuple\n",
    "my_tuple = (1, 2, 3, 4, 5)\n",
    "print(\"Tuple:\", my_tuple)\n",
    "# Create a dictionary\n",
    "my_dict = {\"name\": \"John\", \"age\": 30, \"city\": \"New York\"}\n",
    "print(\"Dictionary:\", my_dict)"
   ]
  },
  {
   "cell_type": "code",
   "execution_count": 37,
   "metadata": {},
   "outputs": [
    {
     "name": "stdout",
     "output_type": "stream",
     "text": [
      "Original List: [46, 11, 15, 77, 76]\n",
      "Sorted List: [11, 15, 46, 76, 77]\n"
     ]
    }
   ],
   "source": [
    "# 27. Write a code to create a list of 5 random numbers between 1 and 100, sort it in ascending order, and print the \n",
    "import random\n",
    "# Create a list of 5 random numbers between 1 and 100\n",
    "random_list = [random.randint(1, 100) for _ in range(5)]\n",
    "print(\"Original List:\", random_list)\n",
    "# Sort the list in ascending order\n",
    "random_list.sort()\n",
    "print(\"Sorted List:\", random_list)"
   ]
  },
  {
   "cell_type": "code",
   "execution_count": 38,
   "metadata": {},
   "outputs": [
    {
     "name": "stdout",
     "output_type": "stream",
     "text": [
      "Element at third index: cherry\n"
     ]
    }
   ],
   "source": [
    "# 28. Write a code to create a list with strings and print the element at the third index.\n",
    "# Create a list with strings\n",
    "fruits = [\"apple\", \"banana\", \"cherry\", \"date\", \"elderberry\"]\n",
    "# Print the element at the third index\n",
    "print(\"Element at third index:\", fruits[2])"
   ]
  },
  {
   "cell_type": "code",
   "execution_count": null,
   "metadata": {},
   "outputs": [
    {
     "name": "stdout",
     "output_type": "stream",
     "text": [
      "Combined Dictionary: {'a': 1, 'b': 2, 'c': 3, 'd': 4, 'e': 5, 'f': 6}\n"
     ]
    }
   ],
   "source": [
    "# 29. Write a code to combine two dictionaries into one and print the result.\n",
    "# Dictionary 1\n",
    "dict1 = {\"a\": 1, \"b\": 2, \"c\": 3}\n",
    "# Dictionary 2\n",
    "dict2 = {\"d\": 4, \"e\": 5, \"f\": 6}\n",
    "# Combine dictionaries using update() method\n",
    "dict1.update(dict2)\n",
    "print(\"Combined Dictionary:\", dict1)"
   ]
  },
  {
   "cell_type": "code",
   "execution_count": 26,
   "metadata": {},
   "outputs": [
    {
     "name": "stdout",
     "output_type": "stream",
     "text": [
      "Original List: ['apple', 'banana', 'apple', 'orange', 'banana']\n",
      "Converted Set: {'banana', 'apple', 'orange'}\n"
     ]
    }
   ],
   "source": [
    "# 30. Write a code to convert a list of strings into a set.\n",
    "# List of strings\n",
    "strings_list = [\"apple\", \"banana\", \"apple\", \"orange\", \"banana\"]\n",
    "# Convert list to set\n",
    "strings_set = set(strings_list)\n",
    "\n",
    "print(\"Original List:\", strings_list)\n",
    "print(\"Converted Set:\", strings_set)"
   ]
  }
 ],
 "metadata": {
  "kernelspec": {
   "display_name": "Python 3 (ipykernel)",
   "language": "python",
   "name": "python3"
  },
  "language_info": {
   "codemirror_mode": {
    "name": "ipython",
    "version": 3
   },
   "file_extension": ".py",
   "mimetype": "text/x-python",
   "name": "python",
   "nbconvert_exporter": "python",
   "pygments_lexer": "ipython3",
   "version": "3.12.8"
  }
 },
 "nbformat": 4,
 "nbformat_minor": 4
}
